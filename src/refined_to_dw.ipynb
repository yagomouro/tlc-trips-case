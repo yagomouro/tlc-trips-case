{
 "cells": [
  {
   "cell_type": "code",
   "execution_count": null,
   "id": "ea62f2c4",
   "metadata": {},
   "outputs": [
    {
     "name": "stdout",
     "output_type": "stream",
     "text": [
      "dim_empresa finalizada\n",
      "dim_tarifa finalizada\n",
      "dim_pagamento finalizada\n",
      "dim_transmissao finalizada\n",
      "dim_zona finalizada\n",
      "dim_calendario finalizada\n"
     ]
    }
   ],
   "source": [
    "import os\n",
    "from dotenv import load_dotenv\n",
    "from pyspark.sql import SparkSession\n",
    "\n",
    "load_dotenv()\n",
    "spark = SparkSession.builder.getOrCreate()\n",
    "\n",
    "host = os.environ[\"POSTGRES_HOST\"]\n",
    "port = os.environ[\"POSTGRES_PORT\"]\n",
    "db = os.environ[\"POSTGRES_DB\"]\n",
    "user = os.environ[\"POSTGRES_USER\"]\n",
    "password = os.environ[\"POSTGRES_PASSWORD\"]\n",
    "schema = os.environ[\"POSTGRES_SCHEMA\"]\n",
    "\n",
    "jdbc_url = f\"jdbc:postgresql://{host}:{port}/{db}\"\n",
    "props = {\"user\": user, \"password\": password, \"driver\": \"org.postgresql.Driver\"}\n",
    "\n",
    "base_path = \"s3a://datalake-prd-tlc-trips/refined-zone\"\n",
    "dimensoes = [\"dim_empresa\",\"dim_tarifa\",\"dim_pagamento\",\"dim_transmissao\",\"dim_zona\",\"dim_calendario\"]\n",
    "fato = \"ft_corrida_taxi\"\n",
    "\n",
    "for tabela in dimensoes:\n",
    "    df_ = spark.read.parquet(f\"{base_path}/{tabela}/\")\n",
    "    df_.write.mode(\"overwrite\").option(\"truncate\",\"true\").option(\"cascadeTruncate\",\"true\").jdbc(jdbc_url, f\"{schema}.{tabela}\", properties=props)\n",
    "    print(f'{tabela} finalizada')\n",
    "\n",
    "df_fato = spark.read.parquet(f\"{base_path}/{fato}/\")\n",
    "df_fato.write.mode(\"overwrite\").option(\"truncate\",\"true\").jdbc(jdbc_url, f\"{schema}.{fato}\", properties=props)\n",
    "\n",
    "\n",
    "# for tabela in dimensoes:\n",
    "#     df_ = spark.read.parquet(f\"./{tabela}/\")\n",
    "#     df_.write.mode(\"overwrite\").option(\"truncate\",\"true\").option(\"cascadeTruncate\",\"true\").jdbc(jdbc_url, f\"{schema}.{tabela}\", properties=props)\n",
    "#     print(f'{tabela} finalizada')\n",
    "\n",
    "# df_fato = spark.read.parquet(f\"./{fato}/\")\n",
    "# df_fato.write.mode(\"overwrite\").option(\"truncate\",\"true\").jdbc(jdbc_url, f\"{schema}.{fato}\", properties=props)"
   ]
  },
  {
   "cell_type": "code",
   "execution_count": null,
   "id": "aae0ce48",
   "metadata": {},
   "outputs": [],
   "source": []
  }
 ],
 "metadata": {
  "kernelspec": {
   "display_name": "Python 3",
   "language": "python",
   "name": "python3"
  },
  "language_info": {
   "codemirror_mode": {
    "name": "ipython",
    "version": 3
   },
   "file_extension": ".py",
   "mimetype": "text/x-python",
   "name": "python",
   "nbconvert_exporter": "python",
   "pygments_lexer": "ipython3",
   "version": "3.12.0"
  }
 },
 "nbformat": 4,
 "nbformat_minor": 5
}
